{
 "cells": [
  {
   "cell_type": "markdown",
   "id": "585de33a",
   "metadata": {},
   "source": [
    "### Convert text to vectors using TF-IDF (Term Frequency - Inverse Document Frequency)"
   ]
  },
  {
   "cell_type": "code",
   "execution_count": 1,
   "id": "ceb2bb91",
   "metadata": {},
   "outputs": [],
   "source": [
    "import nltk"
   ]
  },
  {
   "cell_type": "code",
   "execution_count": 2,
   "id": "8c7d2586",
   "metadata": {},
   "outputs": [
    {
     "name": "stdout",
     "output_type": "stream",
     "text": [
      "Fourscore and seven years ago our fathers brought forth, on this continent, a new nation, conceived \n",
      "in liberty, and dedicated to the proposition that all men are created equal. Now we are engaged in a great \n",
      "civil war, testing whether that nation, or any nation so conceived, and so dedicated, can long endure. We are \n",
      "met on a great battle-field of that war. We have come to dedicate a portion of that field, as a final \n",
      "resting-place for those who here gave their lives, that that nation might live. It is altogether fitting and \n",
      "proper that we should do this. But, in a larger sense, we cannot dedicate, we cannot consecrate—we cannot \n",
      "hallow—this ground. The brave men, living and dead, who struggled here, have consecrated it far above our poor \n",
      "power to add or detract. The world will little note, nor long remember what we say here, but it can never \n",
      "forget what they did here. It is for us the living, rather, to be dedicated here to the unfinished work which \n",
      "they who fought here have thus far so nobly advanced. It is rather for us to be here dedicated to the great \n",
      "task remaining before us—that from these honored dead we take increased devotion to that cause for which they \n",
      "here gave the last full measure of devotion—that we here highly resolve that these dead shall not have died in \n",
      "vain—that this nation, under God, shall have a new birth of freedom, and that government of the people, by the \n",
      "people, for the people, shall not perish from the earth.\n"
     ]
    }
   ],
   "source": [
    "## Create a corpus\n",
    "speech = '''Fourscore and seven years ago our fathers brought forth, on this continent, a new nation, conceived \n",
    "in liberty, and dedicated to the proposition that all men are created equal. Now we are engaged in a great \n",
    "civil war, testing whether that nation, or any nation so conceived, and so dedicated, can long endure. We are \n",
    "met on a great battle-field of that war. We have come to dedicate a portion of that field, as a final \n",
    "resting-place for those who here gave their lives, that that nation might live. It is altogether fitting and \n",
    "proper that we should do this. But, in a larger sense, we cannot dedicate, we cannot consecrate—we cannot \n",
    "hallow—this ground. The brave men, living and dead, who struggled here, have consecrated it far above our poor \n",
    "power to add or detract. The world will little note, nor long remember what we say here, but it can never \n",
    "forget what they did here. It is for us the living, rather, to be dedicated here to the unfinished work which \n",
    "they who fought here have thus far so nobly advanced. It is rather for us to be here dedicated to the great \n",
    "task remaining before us—that from these honored dead we take increased devotion to that cause for which they \n",
    "here gave the last full measure of devotion—that we here highly resolve that these dead shall not have died in \n",
    "vain—that this nation, under God, shall have a new birth of freedom, and that government of the people, by the \n",
    "people, for the people, shall not perish from the earth.'''\n",
    "\n",
    "print(speech)"
   ]
  },
  {
   "cell_type": "markdown",
   "id": "08d832b9",
   "metadata": {},
   "source": [
    "#### Cleaning the Text\n",
    "\n",
    "- Removing stopwords\n",
    "- Removing punctuations\n",
    "- Stemming and Lemmatization\n",
    "- Lower the sentences"
   ]
  },
  {
   "cell_type": "code",
   "execution_count": 3,
   "id": "2d25d22b",
   "metadata": {},
   "outputs": [],
   "source": [
    "import re\n",
    "from nltk.corpus import stopwords\n",
    "from nltk.stem import WordNetLemmatizer"
   ]
  },
  {
   "cell_type": "code",
   "execution_count": 4,
   "id": "759f34f7",
   "metadata": {},
   "outputs": [],
   "source": [
    "lemmatizer = WordNetLemmatizer()"
   ]
  },
  {
   "cell_type": "code",
   "execution_count": 5,
   "id": "bcad156a",
   "metadata": {},
   "outputs": [
    {
     "data": {
      "text/plain": [
       "['Fourscore and seven years ago our fathers brought forth, on this continent, a new nation, conceived \\nin liberty, and dedicated to the proposition that all men are created equal.',\n",
       " 'Now we are engaged in a great \\ncivil war, testing whether that nation, or any nation so conceived, and so dedicated, can long endure.',\n",
       " 'We are \\nmet on a great battle-field of that war.',\n",
       " 'We have come to dedicate a portion of that field, as a final \\nresting-place for those who here gave their lives, that that nation might live.',\n",
       " 'It is altogether fitting and \\nproper that we should do this.',\n",
       " 'But, in a larger sense, we cannot dedicate, we cannot consecrate—we cannot \\nhallow—this ground.',\n",
       " 'The brave men, living and dead, who struggled here, have consecrated it far above our poor \\npower to add or detract.',\n",
       " 'The world will little note, nor long remember what we say here, but it can never \\nforget what they did here.',\n",
       " 'It is for us the living, rather, to be dedicated here to the unfinished work which \\nthey who fought here have thus far so nobly advanced.',\n",
       " 'It is rather for us to be here dedicated to the great \\ntask remaining before us—that from these honored dead we take increased devotion to that cause for which they \\nhere gave the last full measure of devotion—that we here highly resolve that these dead shall not have died in \\nvain—that this nation, under God, shall have a new birth of freedom, and that government of the people, by the \\npeople, for the people, shall not perish from the earth.']"
      ]
     },
     "execution_count": 5,
     "metadata": {},
     "output_type": "execute_result"
    }
   ],
   "source": [
    "sentences = nltk.sent_tokenize(speech)\n",
    "sentences"
   ]
  },
  {
   "cell_type": "code",
   "execution_count": 6,
   "id": "ff1c369a",
   "metadata": {},
   "outputs": [
    {
     "data": {
      "text/plain": [
       "['fourscore seven year ago father brought forth continent new nation conceived liberty dedicated proposition men created equal',\n",
       " 'engaged great civil war testing whether nation nation conceived dedicated long endure',\n",
       " 'met great battle field war',\n",
       " 'come dedicate portion field final resting place gave life nation might live',\n",
       " 'altogether fitting proper',\n",
       " 'larger sense cannot dedicate cannot consecrate cannot hallow ground',\n",
       " 'brave men living dead struggled consecrated far poor power add detract',\n",
       " 'world little note long remember say never forget',\n",
       " 'u living rather dedicated unfinished work fought thus far nobly advanced',\n",
       " 'rather u dedicated great task remaining u honored dead take increased devotion cause gave last full measure devotion highly resolve dead shall died vain nation god shall new birth freedom government people people people shall perish earth']"
      ]
     },
     "execution_count": 6,
     "metadata": {},
     "output_type": "execute_result"
    }
   ],
   "source": [
    "### PERFROM LEMMATIZATION\n",
    "lemmat_corpus = []\n",
    "for i in range(len(sentences)):\n",
    "    only_alphas = re.sub('[^a-zA-Z]', ' ', sentences[i])     ### Keep only Alphabets\n",
    "    lower_words = only_alphas.lower()     ### Convert the remaining text to the same lower form\n",
    "    split_words = lower_words.split()     ### Split the lower words to form a list\n",
    "    stem_words = [lemmatizer.lemmatize(word) for word in split_words if word not in set(stopwords.words('english'))]\n",
    "    final_text = ' '.join(stem_words)\n",
    "    lemmat_corpus.append(final_text)\n",
    "    \n",
    "lemmat_corpus"
   ]
  },
  {
   "cell_type": "markdown",
   "id": "54e50c6b",
   "metadata": {},
   "source": [
    "#### Creating a TF-IDF Model"
   ]
  },
  {
   "cell_type": "code",
   "execution_count": 7,
   "id": "7aae9d89",
   "metadata": {},
   "outputs": [],
   "source": [
    "from sklearn.feature_extraction.text import TfidfVectorizer"
   ]
  },
  {
   "cell_type": "code",
   "execution_count": 8,
   "id": "e10f7722",
   "metadata": {
    "scrolled": true
   },
   "outputs": [
    {
     "data": {
      "text/plain": [
       "array([[0.        , 0.        , 0.25783463, 0.        , 0.        ,\n",
       "        0.        , 0.        , 0.25783463, 0.        , 0.        ,\n",
       "        0.        , 0.        , 0.21918299, 0.        , 0.        ,\n",
       "        0.25783463, 0.25783463, 0.        , 0.        , 0.17048768,\n",
       "        0.        , 0.        , 0.        , 0.        , 0.        ,\n",
       "        0.        , 0.25783463, 0.        , 0.25783463, 0.        ,\n",
       "        0.        , 0.        , 0.        , 0.25783463, 0.        ,\n",
       "        0.25783463, 0.        , 0.        , 0.        , 0.        ,\n",
       "        0.        , 0.        , 0.        , 0.        , 0.        ,\n",
       "        0.        , 0.        , 0.        , 0.        , 0.25783463,\n",
       "        0.        , 0.        , 0.        , 0.        , 0.        ,\n",
       "        0.        , 0.21918299, 0.        , 0.        , 0.17048768,\n",
       "        0.        , 0.21918299, 0.        , 0.        , 0.        ,\n",
       "        0.        , 0.        , 0.        , 0.        , 0.        ,\n",
       "        0.        , 0.25783463, 0.        , 0.        , 0.        ,\n",
       "        0.        , 0.        , 0.        , 0.        , 0.25783463,\n",
       "        0.        , 0.        , 0.        , 0.        , 0.        ,\n",
       "        0.        , 0.        , 0.        , 0.        , 0.        ,\n",
       "        0.        , 0.        , 0.25783463],\n",
       "       [0.        , 0.        , 0.        , 0.        , 0.        ,\n",
       "        0.        , 0.        , 0.        , 0.        , 0.        ,\n",
       "        0.31770508, 0.        , 0.27007834, 0.        , 0.        ,\n",
       "        0.        , 0.        , 0.        , 0.        , 0.21007575,\n",
       "        0.        , 0.        , 0.        , 0.        , 0.31770508,\n",
       "        0.31770508, 0.        , 0.        , 0.        , 0.        ,\n",
       "        0.        , 0.        , 0.        , 0.        , 0.        ,\n",
       "        0.        , 0.        , 0.        , 0.        , 0.        ,\n",
       "        0.        , 0.23628664, 0.        , 0.        , 0.        ,\n",
       "        0.        , 0.        , 0.        , 0.        , 0.        ,\n",
       "        0.        , 0.        , 0.        , 0.        , 0.27007834,\n",
       "        0.        , 0.        , 0.        , 0.        , 0.4201515 ,\n",
       "        0.        , 0.        , 0.        , 0.        , 0.        ,\n",
       "        0.        , 0.        , 0.        , 0.        , 0.        ,\n",
       "        0.        , 0.        , 0.        , 0.        , 0.        ,\n",
       "        0.        , 0.        , 0.        , 0.        , 0.        ,\n",
       "        0.        , 0.        , 0.        , 0.        , 0.31770508,\n",
       "        0.        , 0.        , 0.        , 0.27007834, 0.31770508,\n",
       "        0.        , 0.        , 0.        ],\n",
       "       [0.        , 0.        , 0.        , 0.        , 0.50009727,\n",
       "        0.        , 0.        , 0.        , 0.        , 0.        ,\n",
       "        0.        , 0.        , 0.        , 0.        , 0.        ,\n",
       "        0.        , 0.        , 0.        , 0.        , 0.        ,\n",
       "        0.        , 0.        , 0.        , 0.        , 0.        ,\n",
       "        0.        , 0.        , 0.        , 0.        , 0.42512837,\n",
       "        0.        , 0.        , 0.        , 0.        , 0.        ,\n",
       "        0.        , 0.        , 0.        , 0.        , 0.        ,\n",
       "        0.        , 0.37193708, 0.        , 0.        , 0.        ,\n",
       "        0.        , 0.        , 0.        , 0.        , 0.        ,\n",
       "        0.        , 0.        , 0.        , 0.        , 0.        ,\n",
       "        0.        , 0.        , 0.50009727, 0.        , 0.        ,\n",
       "        0.        , 0.        , 0.        , 0.        , 0.        ,\n",
       "        0.        , 0.        , 0.        , 0.        , 0.        ,\n",
       "        0.        , 0.        , 0.        , 0.        , 0.        ,\n",
       "        0.        , 0.        , 0.        , 0.        , 0.        ,\n",
       "        0.        , 0.        , 0.        , 0.        , 0.        ,\n",
       "        0.        , 0.        , 0.        , 0.42512837, 0.        ,\n",
       "        0.        , 0.        , 0.        ],\n",
       "       [0.        , 0.        , 0.        , 0.        , 0.        ,\n",
       "        0.        , 0.        , 0.        , 0.        , 0.        ,\n",
       "        0.        , 0.3070724 , 0.        , 0.        , 0.        ,\n",
       "        0.        , 0.        , 0.        , 0.26103959, 0.        ,\n",
       "        0.        , 0.        , 0.        , 0.        , 0.        ,\n",
       "        0.        , 0.        , 0.        , 0.        , 0.26103959,\n",
       "        0.3070724 , 0.        , 0.        , 0.        , 0.        ,\n",
       "        0.        , 0.        , 0.        , 0.26103959, 0.        ,\n",
       "        0.        , 0.        , 0.        , 0.        , 0.        ,\n",
       "        0.        , 0.        , 0.        , 0.        , 0.        ,\n",
       "        0.3070724 , 0.        , 0.3070724 , 0.        , 0.        ,\n",
       "        0.        , 0.        , 0.        , 0.3070724 , 0.20304512,\n",
       "        0.        , 0.        , 0.        , 0.        , 0.        ,\n",
       "        0.        , 0.3070724 , 0.        , 0.3070724 , 0.        ,\n",
       "        0.        , 0.        , 0.        , 0.        , 0.        ,\n",
       "        0.        , 0.3070724 , 0.        , 0.        , 0.        ,\n",
       "        0.        , 0.        , 0.        , 0.        , 0.        ,\n",
       "        0.        , 0.        , 0.        , 0.        , 0.        ,\n",
       "        0.        , 0.        , 0.        ],\n",
       "       [0.        , 0.        , 0.        , 0.57735027, 0.        ,\n",
       "        0.        , 0.        , 0.        , 0.        , 0.        ,\n",
       "        0.        , 0.        , 0.        , 0.        , 0.        ,\n",
       "        0.        , 0.        , 0.        , 0.        , 0.        ,\n",
       "        0.        , 0.        , 0.        , 0.        , 0.        ,\n",
       "        0.        , 0.        , 0.        , 0.        , 0.        ,\n",
       "        0.        , 0.57735027, 0.        , 0.        , 0.        ,\n",
       "        0.        , 0.        , 0.        , 0.        , 0.        ,\n",
       "        0.        , 0.        , 0.        , 0.        , 0.        ,\n",
       "        0.        , 0.        , 0.        , 0.        , 0.        ,\n",
       "        0.        , 0.        , 0.        , 0.        , 0.        ,\n",
       "        0.        , 0.        , 0.        , 0.        , 0.        ,\n",
       "        0.        , 0.        , 0.        , 0.        , 0.        ,\n",
       "        0.        , 0.        , 0.        , 0.        , 0.        ,\n",
       "        0.57735027, 0.        , 0.        , 0.        , 0.        ,\n",
       "        0.        , 0.        , 0.        , 0.        , 0.        ,\n",
       "        0.        , 0.        , 0.        , 0.        , 0.        ,\n",
       "        0.        , 0.        , 0.        , 0.        , 0.        ,\n",
       "        0.        , 0.        , 0.        ],\n",
       "       [0.        , 0.        , 0.        , 0.        , 0.        ,\n",
       "        0.        , 0.        , 0.        , 0.78185854, 0.        ,\n",
       "        0.        , 0.        , 0.        , 0.26061951, 0.        ,\n",
       "        0.        , 0.        , 0.        , 0.2215504 , 0.        ,\n",
       "        0.        , 0.        , 0.        , 0.        , 0.        ,\n",
       "        0.        , 0.        , 0.        , 0.        , 0.        ,\n",
       "        0.        , 0.        , 0.        , 0.        , 0.        ,\n",
       "        0.        , 0.        , 0.        , 0.        , 0.        ,\n",
       "        0.        , 0.        , 0.26061951, 0.26061951, 0.        ,\n",
       "        0.        , 0.        , 0.26061951, 0.        , 0.        ,\n",
       "        0.        , 0.        , 0.        , 0.        , 0.        ,\n",
       "        0.        , 0.        , 0.        , 0.        , 0.        ,\n",
       "        0.        , 0.        , 0.        , 0.        , 0.        ,\n",
       "        0.        , 0.        , 0.        , 0.        , 0.        ,\n",
       "        0.        , 0.        , 0.        , 0.        , 0.        ,\n",
       "        0.        , 0.        , 0.        , 0.26061951, 0.        ,\n",
       "        0.        , 0.        , 0.        , 0.        , 0.        ,\n",
       "        0.        , 0.        , 0.        , 0.        , 0.        ,\n",
       "        0.        , 0.        , 0.        ],\n",
       "       [0.31797151, 0.        , 0.        , 0.        , 0.        ,\n",
       "        0.        , 0.31797151, 0.        , 0.        , 0.        ,\n",
       "        0.        , 0.        , 0.        , 0.        , 0.31797151,\n",
       "        0.        , 0.        , 0.27030484, 0.        , 0.        ,\n",
       "        0.31797151, 0.        , 0.        , 0.        , 0.        ,\n",
       "        0.        , 0.        , 0.27030484, 0.        , 0.        ,\n",
       "        0.        , 0.        , 0.        , 0.        , 0.        ,\n",
       "        0.        , 0.        , 0.        , 0.        , 0.        ,\n",
       "        0.        , 0.        , 0.        , 0.        , 0.        ,\n",
       "        0.        , 0.        , 0.        , 0.        , 0.        ,\n",
       "        0.        , 0.        , 0.        , 0.27030484, 0.        ,\n",
       "        0.        , 0.27030484, 0.        , 0.        , 0.        ,\n",
       "        0.        , 0.        , 0.        , 0.        , 0.        ,\n",
       "        0.        , 0.        , 0.31797151, 0.        , 0.31797151,\n",
       "        0.        , 0.        , 0.        , 0.        , 0.        ,\n",
       "        0.        , 0.        , 0.        , 0.        , 0.        ,\n",
       "        0.        , 0.31797151, 0.        , 0.        , 0.        ,\n",
       "        0.        , 0.        , 0.        , 0.        , 0.        ,\n",
       "        0.        , 0.        , 0.        ],\n",
       "       [0.        , 0.        , 0.        , 0.        , 0.        ,\n",
       "        0.        , 0.        , 0.        , 0.        , 0.        ,\n",
       "        0.        , 0.        , 0.        , 0.        , 0.        ,\n",
       "        0.        , 0.        , 0.        , 0.        , 0.        ,\n",
       "        0.        , 0.        , 0.        , 0.        , 0.        ,\n",
       "        0.        , 0.        , 0.        , 0.        , 0.        ,\n",
       "        0.        , 0.        , 0.359846  , 0.        , 0.        ,\n",
       "        0.        , 0.        , 0.        , 0.        , 0.        ,\n",
       "        0.        , 0.        , 0.        , 0.        , 0.        ,\n",
       "        0.        , 0.        , 0.        , 0.        , 0.        ,\n",
       "        0.        , 0.359846  , 0.        , 0.        , 0.30590197,\n",
       "        0.        , 0.        , 0.        , 0.        , 0.        ,\n",
       "        0.359846  , 0.        , 0.        , 0.359846  , 0.        ,\n",
       "        0.        , 0.        , 0.        , 0.        , 0.        ,\n",
       "        0.        , 0.        , 0.        , 0.        , 0.359846  ,\n",
       "        0.        , 0.        , 0.359846  , 0.        , 0.        ,\n",
       "        0.        , 0.        , 0.        , 0.        , 0.        ,\n",
       "        0.        , 0.        , 0.        , 0.        , 0.        ,\n",
       "        0.        , 0.359846  , 0.        ],\n",
       "       [0.        , 0.34089433, 0.        , 0.        , 0.        ,\n",
       "        0.        , 0.        , 0.        , 0.        , 0.        ,\n",
       "        0.        , 0.        , 0.        , 0.        , 0.        ,\n",
       "        0.        , 0.        , 0.        , 0.        , 0.22540915,\n",
       "        0.        , 0.        , 0.        , 0.        , 0.        ,\n",
       "        0.        , 0.        , 0.28979133, 0.        , 0.        ,\n",
       "        0.        , 0.        , 0.        , 0.        , 0.34089433,\n",
       "        0.        , 0.        , 0.        , 0.        , 0.        ,\n",
       "        0.        , 0.        , 0.        , 0.        , 0.        ,\n",
       "        0.        , 0.        , 0.        , 0.        , 0.        ,\n",
       "        0.        , 0.        , 0.        , 0.28979133, 0.        ,\n",
       "        0.        , 0.        , 0.        , 0.        , 0.        ,\n",
       "        0.        , 0.        , 0.34089433, 0.        , 0.        ,\n",
       "        0.        , 0.        , 0.        , 0.        , 0.        ,\n",
       "        0.        , 0.        , 0.28979133, 0.        , 0.        ,\n",
       "        0.        , 0.        , 0.        , 0.        , 0.        ,\n",
       "        0.        , 0.        , 0.        , 0.        , 0.        ,\n",
       "        0.34089433, 0.34089433, 0.        , 0.        , 0.        ,\n",
       "        0.34089433, 0.        , 0.        ],\n",
       "       [0.        , 0.        , 0.        , 0.        , 0.        ,\n",
       "        0.14511638, 0.        , 0.        , 0.        , 0.14511638,\n",
       "        0.        , 0.        , 0.        , 0.        , 0.        ,\n",
       "        0.        , 0.        , 0.24672436, 0.        , 0.09595513,\n",
       "        0.        , 0.29023276, 0.14511638, 0.14511638, 0.        ,\n",
       "        0.        , 0.        , 0.        , 0.        , 0.        ,\n",
       "        0.        , 0.        , 0.        , 0.        , 0.        ,\n",
       "        0.        , 0.14511638, 0.14511638, 0.12336218, 0.14511638,\n",
       "        0.14511638, 0.10792733, 0.        , 0.        , 0.14511638,\n",
       "        0.14511638, 0.14511638, 0.        , 0.14511638, 0.        ,\n",
       "        0.        , 0.        , 0.        , 0.        , 0.        ,\n",
       "        0.14511638, 0.        , 0.        , 0.        , 0.09595513,\n",
       "        0.        , 0.12336218, 0.        , 0.        , 0.43534914,\n",
       "        0.14511638, 0.        , 0.        , 0.        , 0.        ,\n",
       "        0.        , 0.        , 0.12336218, 0.14511638, 0.        ,\n",
       "        0.14511638, 0.        , 0.        , 0.        , 0.        ,\n",
       "        0.43534914, 0.        , 0.14511638, 0.14511638, 0.        ,\n",
       "        0.        , 0.        , 0.14511638, 0.        , 0.        ,\n",
       "        0.        , 0.        , 0.        ]])"
      ]
     },
     "execution_count": 8,
     "metadata": {},
     "output_type": "execute_result"
    }
   ],
   "source": [
    "vectorizer = TfidfVectorizer()\n",
    "X = vectorizer.fit_transform(lemmat_corpus).toarray()\n",
    "X"
   ]
  },
  {
   "cell_type": "code",
   "execution_count": 9,
   "id": "18164bc9",
   "metadata": {},
   "outputs": [
    {
     "data": {
      "text/plain": [
       "(10, 93)"
      ]
     },
     "execution_count": 9,
     "metadata": {},
     "output_type": "execute_result"
    }
   ],
   "source": [
    "import numpy as np\n",
    "np.shape(X)"
   ]
  },
  {
   "cell_type": "code",
   "execution_count": null,
   "id": "084970c5",
   "metadata": {},
   "outputs": [],
   "source": []
  }
 ],
 "metadata": {
  "kernelspec": {
   "display_name": "Python 3",
   "language": "python",
   "name": "python3"
  },
  "language_info": {
   "codemirror_mode": {
    "name": "ipython",
    "version": 3
   },
   "file_extension": ".py",
   "mimetype": "text/x-python",
   "name": "python",
   "nbconvert_exporter": "python",
   "pygments_lexer": "ipython3",
   "version": "3.8.10"
  }
 },
 "nbformat": 4,
 "nbformat_minor": 5
}
